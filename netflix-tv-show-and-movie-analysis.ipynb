{
 "cells": [
  {
   "cell_type": "markdown",
   "id": "f5fd9c7a",
   "metadata": {
    "papermill": {
     "duration": 0.008086,
     "end_time": "2022-08-09T23:44:11.682115",
     "exception": false,
     "start_time": "2022-08-09T23:44:11.674029",
     "status": "completed"
    },
    "tags": []
   },
   "source": [
    "<img src= \"https://c.tenor.com/QJNoPeq9WmUAAAAC/netflix-intro-netflix.gif\" width=\"600\" >"
   ]
  },
  {
   "cell_type": "markdown",
   "id": "d8ab2a34",
   "metadata": {
    "papermill": {
     "duration": 0.006645,
     "end_time": "2022-08-09T23:44:11.695852",
     "exception": false,
     "start_time": "2022-08-09T23:44:11.689207",
     "status": "completed"
    },
    "tags": []
   },
   "source": [
    "# Netflix Movie/TV Show Content Analysis #\n",
    "\n",
    "\n",
    "\n",
    "### After looking through many datasets, Netflix, which is one of the largest streaming platforms, seemed like something interesting to look into.\n",
    "\n",
    "## I wanted to answer the following questions:\n",
    "* How much content is added to Netflix each year? What does the trend look like?\n",
    "* What are the most popular movie and tv show genres on Netflix?\n",
    "* Where is most of the content produced?"
   ]
  },
  {
   "cell_type": "markdown",
   "id": "ba80dbe5",
   "metadata": {
    "papermill": {
     "duration": 0.006667,
     "end_time": "2022-08-09T23:44:11.709318",
     "exception": false,
     "start_time": "2022-08-09T23:44:11.702651",
     "status": "completed"
    },
    "tags": []
   },
   "source": [
    "## Below is the data dictionary for this dataset:"
   ]
  },
  {
   "cell_type": "markdown",
   "id": "0439d099",
   "metadata": {
    "papermill": {
     "duration": 0.006483,
     "end_time": "2022-08-09T23:44:11.724556",
     "exception": false,
     "start_time": "2022-08-09T23:44:11.718073",
     "status": "completed"
    },
    "tags": []
   },
   "source": [
    "| Field | Description |\n",
    "| :-- | :-- |\n",
    "| **show_id** | Primary key for every movie/tv show\n",
    "| **type** | Categorizes the content as either a TV show or a Movie\n",
    "| **title** | Title of the Netflix content\n",
    "| **director** | Name of person(s) who directed the movie\n",
    "| **cast** | Actors/Actresses involved in the movie/tv show\n",
    "| **country** | Country where the movie/show was produced\n",
    "| **date_added** | Date it was added to Netflix\n",
    "| **release_year** | Year the movie/show was originally released\n",
    "| **rating** | Rating of the movie/show\n",
    "| **listed_in** | Genre of the movie/show\n",
    "| **description** | Brief description of the movie/show"
   ]
  },
  {
   "cell_type": "code",
   "execution_count": 1,
   "id": "14a2fd84",
   "metadata": {
    "execution": {
     "iopub.execute_input": "2022-08-09T23:44:11.740880Z",
     "iopub.status.busy": "2022-08-09T23:44:11.740225Z",
     "iopub.status.idle": "2022-08-09T23:44:11.894611Z",
     "shell.execute_reply": "2022-08-09T23:44:11.893374Z"
    },
    "papermill": {
     "duration": 0.16593,
     "end_time": "2022-08-09T23:44:11.897468",
     "exception": false,
     "start_time": "2022-08-09T23:44:11.731538",
     "status": "completed"
    },
    "tags": []
   },
   "outputs": [
    {
     "data": {
      "text/html": [
       "<div>\n",
       "<style scoped>\n",
       "    .dataframe tbody tr th:only-of-type {\n",
       "        vertical-align: middle;\n",
       "    }\n",
       "\n",
       "    .dataframe tbody tr th {\n",
       "        vertical-align: top;\n",
       "    }\n",
       "\n",
       "    .dataframe thead th {\n",
       "        text-align: right;\n",
       "    }\n",
       "</style>\n",
       "<table border=\"1\" class=\"dataframe\">\n",
       "  <thead>\n",
       "    <tr style=\"text-align: right;\">\n",
       "      <th></th>\n",
       "      <th>show_id</th>\n",
       "      <th>type</th>\n",
       "      <th>title</th>\n",
       "      <th>director</th>\n",
       "      <th>cast</th>\n",
       "      <th>country</th>\n",
       "      <th>date_added</th>\n",
       "      <th>release_year</th>\n",
       "      <th>rating</th>\n",
       "      <th>duration</th>\n",
       "      <th>listed_in</th>\n",
       "      <th>description</th>\n",
       "    </tr>\n",
       "  </thead>\n",
       "  <tbody>\n",
       "    <tr>\n",
       "      <th>0</th>\n",
       "      <td>s1</td>\n",
       "      <td>Movie</td>\n",
       "      <td>Dick Johnson Is Dead</td>\n",
       "      <td>Kirsten Johnson</td>\n",
       "      <td>NaN</td>\n",
       "      <td>United States</td>\n",
       "      <td>September 25, 2021</td>\n",
       "      <td>2020</td>\n",
       "      <td>PG-13</td>\n",
       "      <td>90 min</td>\n",
       "      <td>Documentaries</td>\n",
       "      <td>As her father nears the end of his life, filmm...</td>\n",
       "    </tr>\n",
       "    <tr>\n",
       "      <th>1</th>\n",
       "      <td>s2</td>\n",
       "      <td>TV Show</td>\n",
       "      <td>Blood &amp; Water</td>\n",
       "      <td>NaN</td>\n",
       "      <td>Ama Qamata, Khosi Ngema, Gail Mabalane, Thaban...</td>\n",
       "      <td>South Africa</td>\n",
       "      <td>September 24, 2021</td>\n",
       "      <td>2021</td>\n",
       "      <td>TV-MA</td>\n",
       "      <td>2 Seasons</td>\n",
       "      <td>International TV Shows, TV Dramas, TV Mysteries</td>\n",
       "      <td>After crossing paths at a party, a Cape Town t...</td>\n",
       "    </tr>\n",
       "    <tr>\n",
       "      <th>2</th>\n",
       "      <td>s3</td>\n",
       "      <td>TV Show</td>\n",
       "      <td>Ganglands</td>\n",
       "      <td>Julien Leclercq</td>\n",
       "      <td>Sami Bouajila, Tracy Gotoas, Samuel Jouy, Nabi...</td>\n",
       "      <td>NaN</td>\n",
       "      <td>September 24, 2021</td>\n",
       "      <td>2021</td>\n",
       "      <td>TV-MA</td>\n",
       "      <td>1 Season</td>\n",
       "      <td>Crime TV Shows, International TV Shows, TV Act...</td>\n",
       "      <td>To protect his family from a powerful drug lor...</td>\n",
       "    </tr>\n",
       "  </tbody>\n",
       "</table>\n",
       "</div>"
      ],
      "text/plain": [
       "  show_id     type                 title         director  \\\n",
       "0      s1    Movie  Dick Johnson Is Dead  Kirsten Johnson   \n",
       "1      s2  TV Show         Blood & Water              NaN   \n",
       "2      s3  TV Show             Ganglands  Julien Leclercq   \n",
       "\n",
       "                                                cast        country  \\\n",
       "0                                                NaN  United States   \n",
       "1  Ama Qamata, Khosi Ngema, Gail Mabalane, Thaban...   South Africa   \n",
       "2  Sami Bouajila, Tracy Gotoas, Samuel Jouy, Nabi...            NaN   \n",
       "\n",
       "           date_added  release_year rating   duration  \\\n",
       "0  September 25, 2021          2020  PG-13     90 min   \n",
       "1  September 24, 2021          2021  TV-MA  2 Seasons   \n",
       "2  September 24, 2021          2021  TV-MA   1 Season   \n",
       "\n",
       "                                           listed_in  \\\n",
       "0                                      Documentaries   \n",
       "1    International TV Shows, TV Dramas, TV Mysteries   \n",
       "2  Crime TV Shows, International TV Shows, TV Act...   \n",
       "\n",
       "                                         description  \n",
       "0  As her father nears the end of his life, filmm...  \n",
       "1  After crossing paths at a party, a Cape Town t...  \n",
       "2  To protect his family from a powerful drug lor...  "
      ]
     },
     "execution_count": 1,
     "metadata": {},
     "output_type": "execute_result"
    }
   ],
   "source": [
    "import pandas as pd\n",
    "import matplotlib.pyplot as plt\n",
    "\n",
    "def read_file():\n",
    "    return pd.read_csv('../input/netflix-shows/netflix_titles.csv')\n",
    "\n",
    "netflix = read_file()\n",
    "netflix.head(3)"
   ]
  },
  {
   "cell_type": "markdown",
   "id": "3bdf9416",
   "metadata": {
    "papermill": {
     "duration": 0.006468,
     "end_time": "2022-08-09T23:44:11.910787",
     "exception": false,
     "start_time": "2022-08-09T23:44:11.904319",
     "status": "completed"
    },
    "tags": []
   },
   "source": [
    "### Now time for the Data Cleanup:\n",
    "\n",
    "So, like we had practiced in class, I wanted to make the show_id the primary index, but the problem was that this was a string and not a integer.\n",
    "\n",
    "I thought that would make it more confusing to locate the show needed, so I made a definition that would strip the 's' off of the show_id and make it so that each show has its own unique number. "
   ]
  },
  {
   "cell_type": "code",
   "execution_count": 2,
   "id": "e9b95f6b",
   "metadata": {
    "execution": {
     "iopub.execute_input": "2022-08-09T23:44:11.926592Z",
     "iopub.status.busy": "2022-08-09T23:44:11.926075Z",
     "iopub.status.idle": "2022-08-09T23:44:11.958307Z",
     "shell.execute_reply": "2022-08-09T23:44:11.956999Z"
    },
    "papermill": {
     "duration": 0.044399,
     "end_time": "2022-08-09T23:44:11.961691",
     "exception": false,
     "start_time": "2022-08-09T23:44:11.917292",
     "status": "completed"
    },
    "tags": []
   },
   "outputs": [
    {
     "data": {
      "text/html": [
       "<div>\n",
       "<style scoped>\n",
       "    .dataframe tbody tr th:only-of-type {\n",
       "        vertical-align: middle;\n",
       "    }\n",
       "\n",
       "    .dataframe tbody tr th {\n",
       "        vertical-align: top;\n",
       "    }\n",
       "\n",
       "    .dataframe thead th {\n",
       "        text-align: right;\n",
       "    }\n",
       "</style>\n",
       "<table border=\"1\" class=\"dataframe\">\n",
       "  <thead>\n",
       "    <tr style=\"text-align: right;\">\n",
       "      <th></th>\n",
       "      <th>type</th>\n",
       "      <th>title</th>\n",
       "      <th>director</th>\n",
       "      <th>cast</th>\n",
       "      <th>country</th>\n",
       "      <th>date_added</th>\n",
       "      <th>release_year</th>\n",
       "      <th>rating</th>\n",
       "      <th>duration</th>\n",
       "      <th>listed_in</th>\n",
       "      <th>description</th>\n",
       "    </tr>\n",
       "    <tr>\n",
       "      <th>show_id</th>\n",
       "      <th></th>\n",
       "      <th></th>\n",
       "      <th></th>\n",
       "      <th></th>\n",
       "      <th></th>\n",
       "      <th></th>\n",
       "      <th></th>\n",
       "      <th></th>\n",
       "      <th></th>\n",
       "      <th></th>\n",
       "      <th></th>\n",
       "    </tr>\n",
       "  </thead>\n",
       "  <tbody>\n",
       "    <tr>\n",
       "      <th>1</th>\n",
       "      <td>Movie</td>\n",
       "      <td>Dick Johnson Is Dead</td>\n",
       "      <td>Kirsten Johnson</td>\n",
       "      <td>NaN</td>\n",
       "      <td>United States</td>\n",
       "      <td>September 25, 2021</td>\n",
       "      <td>2020</td>\n",
       "      <td>PG-13</td>\n",
       "      <td>90 min</td>\n",
       "      <td>Documentaries</td>\n",
       "      <td>As her father nears the end of his life, filmm...</td>\n",
       "    </tr>\n",
       "    <tr>\n",
       "      <th>2</th>\n",
       "      <td>TV Show</td>\n",
       "      <td>Blood &amp; Water</td>\n",
       "      <td>NaN</td>\n",
       "      <td>Ama Qamata, Khosi Ngema, Gail Mabalane, Thaban...</td>\n",
       "      <td>South Africa</td>\n",
       "      <td>September 24, 2021</td>\n",
       "      <td>2021</td>\n",
       "      <td>TV-MA</td>\n",
       "      <td>2 Seasons</td>\n",
       "      <td>International TV Shows, TV Dramas, TV Mysteries</td>\n",
       "      <td>After crossing paths at a party, a Cape Town t...</td>\n",
       "    </tr>\n",
       "    <tr>\n",
       "      <th>3</th>\n",
       "      <td>TV Show</td>\n",
       "      <td>Ganglands</td>\n",
       "      <td>Julien Leclercq</td>\n",
       "      <td>Sami Bouajila, Tracy Gotoas, Samuel Jouy, Nabi...</td>\n",
       "      <td>NaN</td>\n",
       "      <td>September 24, 2021</td>\n",
       "      <td>2021</td>\n",
       "      <td>TV-MA</td>\n",
       "      <td>1 Season</td>\n",
       "      <td>Crime TV Shows, International TV Shows, TV Act...</td>\n",
       "      <td>To protect his family from a powerful drug lor...</td>\n",
       "    </tr>\n",
       "    <tr>\n",
       "      <th>4</th>\n",
       "      <td>TV Show</td>\n",
       "      <td>Jailbirds New Orleans</td>\n",
       "      <td>NaN</td>\n",
       "      <td>NaN</td>\n",
       "      <td>NaN</td>\n",
       "      <td>September 24, 2021</td>\n",
       "      <td>2021</td>\n",
       "      <td>TV-MA</td>\n",
       "      <td>1 Season</td>\n",
       "      <td>Docuseries, Reality TV</td>\n",
       "      <td>Feuds, flirtations and toilet talk go down amo...</td>\n",
       "    </tr>\n",
       "    <tr>\n",
       "      <th>5</th>\n",
       "      <td>TV Show</td>\n",
       "      <td>Kota Factory</td>\n",
       "      <td>NaN</td>\n",
       "      <td>Mayur More, Jitendra Kumar, Ranjan Raj, Alam K...</td>\n",
       "      <td>India</td>\n",
       "      <td>September 24, 2021</td>\n",
       "      <td>2021</td>\n",
       "      <td>TV-MA</td>\n",
       "      <td>2 Seasons</td>\n",
       "      <td>International TV Shows, Romantic TV Shows, TV ...</td>\n",
       "      <td>In a city of coaching centers known to train I...</td>\n",
       "    </tr>\n",
       "    <tr>\n",
       "      <th>...</th>\n",
       "      <td>...</td>\n",
       "      <td>...</td>\n",
       "      <td>...</td>\n",
       "      <td>...</td>\n",
       "      <td>...</td>\n",
       "      <td>...</td>\n",
       "      <td>...</td>\n",
       "      <td>...</td>\n",
       "      <td>...</td>\n",
       "      <td>...</td>\n",
       "      <td>...</td>\n",
       "    </tr>\n",
       "    <tr>\n",
       "      <th>8803</th>\n",
       "      <td>Movie</td>\n",
       "      <td>Zodiac</td>\n",
       "      <td>David Fincher</td>\n",
       "      <td>Mark Ruffalo, Jake Gyllenhaal, Robert Downey J...</td>\n",
       "      <td>United States</td>\n",
       "      <td>November 20, 2019</td>\n",
       "      <td>2007</td>\n",
       "      <td>R</td>\n",
       "      <td>158 min</td>\n",
       "      <td>Cult Movies, Dramas, Thrillers</td>\n",
       "      <td>A political cartoonist, a crime reporter and a...</td>\n",
       "    </tr>\n",
       "    <tr>\n",
       "      <th>8804</th>\n",
       "      <td>TV Show</td>\n",
       "      <td>Zombie Dumb</td>\n",
       "      <td>NaN</td>\n",
       "      <td>NaN</td>\n",
       "      <td>NaN</td>\n",
       "      <td>July 1, 2019</td>\n",
       "      <td>2018</td>\n",
       "      <td>TV-Y7</td>\n",
       "      <td>2 Seasons</td>\n",
       "      <td>Kids' TV, Korean TV Shows, TV Comedies</td>\n",
       "      <td>While living alone in a spooky town, a young g...</td>\n",
       "    </tr>\n",
       "    <tr>\n",
       "      <th>8805</th>\n",
       "      <td>Movie</td>\n",
       "      <td>Zombieland</td>\n",
       "      <td>Ruben Fleischer</td>\n",
       "      <td>Jesse Eisenberg, Woody Harrelson, Emma Stone, ...</td>\n",
       "      <td>United States</td>\n",
       "      <td>November 1, 2019</td>\n",
       "      <td>2009</td>\n",
       "      <td>R</td>\n",
       "      <td>88 min</td>\n",
       "      <td>Comedies, Horror Movies</td>\n",
       "      <td>Looking to survive in a world taken over by zo...</td>\n",
       "    </tr>\n",
       "    <tr>\n",
       "      <th>8806</th>\n",
       "      <td>Movie</td>\n",
       "      <td>Zoom</td>\n",
       "      <td>Peter Hewitt</td>\n",
       "      <td>Tim Allen, Courteney Cox, Chevy Chase, Kate Ma...</td>\n",
       "      <td>United States</td>\n",
       "      <td>January 11, 2020</td>\n",
       "      <td>2006</td>\n",
       "      <td>PG</td>\n",
       "      <td>88 min</td>\n",
       "      <td>Children &amp; Family Movies, Comedies</td>\n",
       "      <td>Dragged from civilian life, a former superhero...</td>\n",
       "    </tr>\n",
       "    <tr>\n",
       "      <th>8807</th>\n",
       "      <td>Movie</td>\n",
       "      <td>Zubaan</td>\n",
       "      <td>Mozez Singh</td>\n",
       "      <td>Vicky Kaushal, Sarah-Jane Dias, Raaghav Chanan...</td>\n",
       "      <td>India</td>\n",
       "      <td>March 2, 2019</td>\n",
       "      <td>2015</td>\n",
       "      <td>TV-14</td>\n",
       "      <td>111 min</td>\n",
       "      <td>Dramas, International Movies, Music &amp; Musicals</td>\n",
       "      <td>A scrappy but poor boy worms his way into a ty...</td>\n",
       "    </tr>\n",
       "  </tbody>\n",
       "</table>\n",
       "<p>8807 rows × 11 columns</p>\n",
       "</div>"
      ],
      "text/plain": [
       "            type                  title         director  \\\n",
       "show_id                                                    \n",
       "1          Movie   Dick Johnson Is Dead  Kirsten Johnson   \n",
       "2        TV Show          Blood & Water              NaN   \n",
       "3        TV Show              Ganglands  Julien Leclercq   \n",
       "4        TV Show  Jailbirds New Orleans              NaN   \n",
       "5        TV Show           Kota Factory              NaN   \n",
       "...          ...                    ...              ...   \n",
       "8803       Movie                 Zodiac    David Fincher   \n",
       "8804     TV Show            Zombie Dumb              NaN   \n",
       "8805       Movie             Zombieland  Ruben Fleischer   \n",
       "8806       Movie                   Zoom     Peter Hewitt   \n",
       "8807       Movie                 Zubaan      Mozez Singh   \n",
       "\n",
       "                                                      cast        country  \\\n",
       "show_id                                                                     \n",
       "1                                                      NaN  United States   \n",
       "2        Ama Qamata, Khosi Ngema, Gail Mabalane, Thaban...   South Africa   \n",
       "3        Sami Bouajila, Tracy Gotoas, Samuel Jouy, Nabi...            NaN   \n",
       "4                                                      NaN            NaN   \n",
       "5        Mayur More, Jitendra Kumar, Ranjan Raj, Alam K...          India   \n",
       "...                                                    ...            ...   \n",
       "8803     Mark Ruffalo, Jake Gyllenhaal, Robert Downey J...  United States   \n",
       "8804                                                   NaN            NaN   \n",
       "8805     Jesse Eisenberg, Woody Harrelson, Emma Stone, ...  United States   \n",
       "8806     Tim Allen, Courteney Cox, Chevy Chase, Kate Ma...  United States   \n",
       "8807     Vicky Kaushal, Sarah-Jane Dias, Raaghav Chanan...          India   \n",
       "\n",
       "                 date_added  release_year rating   duration  \\\n",
       "show_id                                                       \n",
       "1        September 25, 2021          2020  PG-13     90 min   \n",
       "2        September 24, 2021          2021  TV-MA  2 Seasons   \n",
       "3        September 24, 2021          2021  TV-MA   1 Season   \n",
       "4        September 24, 2021          2021  TV-MA   1 Season   \n",
       "5        September 24, 2021          2021  TV-MA  2 Seasons   \n",
       "...                     ...           ...    ...        ...   \n",
       "8803      November 20, 2019          2007      R    158 min   \n",
       "8804           July 1, 2019          2018  TV-Y7  2 Seasons   \n",
       "8805       November 1, 2019          2009      R     88 min   \n",
       "8806       January 11, 2020          2006     PG     88 min   \n",
       "8807          March 2, 2019          2015  TV-14    111 min   \n",
       "\n",
       "                                                 listed_in  \\\n",
       "show_id                                                      \n",
       "1                                            Documentaries   \n",
       "2          International TV Shows, TV Dramas, TV Mysteries   \n",
       "3        Crime TV Shows, International TV Shows, TV Act...   \n",
       "4                                   Docuseries, Reality TV   \n",
       "5        International TV Shows, Romantic TV Shows, TV ...   \n",
       "...                                                    ...   \n",
       "8803                        Cult Movies, Dramas, Thrillers   \n",
       "8804                Kids' TV, Korean TV Shows, TV Comedies   \n",
       "8805                               Comedies, Horror Movies   \n",
       "8806                    Children & Family Movies, Comedies   \n",
       "8807        Dramas, International Movies, Music & Musicals   \n",
       "\n",
       "                                               description  \n",
       "show_id                                                     \n",
       "1        As her father nears the end of his life, filmm...  \n",
       "2        After crossing paths at a party, a Cape Town t...  \n",
       "3        To protect his family from a powerful drug lor...  \n",
       "4        Feuds, flirtations and toilet talk go down amo...  \n",
       "5        In a city of coaching centers known to train I...  \n",
       "...                                                    ...  \n",
       "8803     A political cartoonist, a crime reporter and a...  \n",
       "8804     While living alone in a spooky town, a young g...  \n",
       "8805     Looking to survive in a world taken over by zo...  \n",
       "8806     Dragged from civilian life, a former superhero...  \n",
       "8807     A scrappy but poor boy worms his way into a ty...  \n",
       "\n",
       "[8807 rows x 11 columns]"
      ]
     },
     "execution_count": 2,
     "metadata": {},
     "output_type": "execute_result"
    }
   ],
   "source": [
    "def strip_message(string):\n",
    "    return string.strip('s')\n",
    "\n",
    "netflix['show_id'] = netflix['show_id'].apply(strip_message)\n",
    "netflix.set_index('show_id', inplace=True)\n",
    "netflix"
   ]
  },
  {
   "cell_type": "code",
   "execution_count": 3,
   "id": "28d04e39",
   "metadata": {
    "execution": {
     "iopub.execute_input": "2022-08-09T23:44:11.981647Z",
     "iopub.status.busy": "2022-08-09T23:44:11.980778Z",
     "iopub.status.idle": "2022-08-09T23:44:12.003450Z",
     "shell.execute_reply": "2022-08-09T23:44:12.002383Z"
    },
    "papermill": {
     "duration": 0.034158,
     "end_time": "2022-08-09T23:44:12.005702",
     "exception": false,
     "start_time": "2022-08-09T23:44:11.971544",
     "status": "completed"
    },
    "tags": []
   },
   "outputs": [
    {
     "data": {
      "text/html": [
       "<div>\n",
       "<style scoped>\n",
       "    .dataframe tbody tr th:only-of-type {\n",
       "        vertical-align: middle;\n",
       "    }\n",
       "\n",
       "    .dataframe tbody tr th {\n",
       "        vertical-align: top;\n",
       "    }\n",
       "\n",
       "    .dataframe thead th {\n",
       "        text-align: right;\n",
       "    }\n",
       "</style>\n",
       "<table border=\"1\" class=\"dataframe\">\n",
       "  <thead>\n",
       "    <tr style=\"text-align: right;\">\n",
       "      <th></th>\n",
       "      <th>Count of Nulls</th>\n",
       "    </tr>\n",
       "    <tr>\n",
       "      <th>Column Name</th>\n",
       "      <th></th>\n",
       "    </tr>\n",
       "  </thead>\n",
       "  <tbody>\n",
       "    <tr>\n",
       "      <th>director</th>\n",
       "      <td>2634</td>\n",
       "    </tr>\n",
       "    <tr>\n",
       "      <th>country</th>\n",
       "      <td>831</td>\n",
       "    </tr>\n",
       "    <tr>\n",
       "      <th>cast</th>\n",
       "      <td>825</td>\n",
       "    </tr>\n",
       "    <tr>\n",
       "      <th>date_added</th>\n",
       "      <td>10</td>\n",
       "    </tr>\n",
       "    <tr>\n",
       "      <th>rating</th>\n",
       "      <td>4</td>\n",
       "    </tr>\n",
       "    <tr>\n",
       "      <th>duration</th>\n",
       "      <td>3</td>\n",
       "    </tr>\n",
       "  </tbody>\n",
       "</table>\n",
       "</div>"
      ],
      "text/plain": [
       "             Count of Nulls\n",
       "Column Name                \n",
       "director               2634\n",
       "country                 831\n",
       "cast                    825\n",
       "date_added               10\n",
       "rating                    4\n",
       "duration                  3"
      ]
     },
     "execution_count": 3,
     "metadata": {},
     "output_type": "execute_result"
    }
   ],
   "source": [
    "nulls = pd.DataFrame(netflix.isnull().sum(), columns=['Count of Nulls'])\n",
    "nulls.index.name = 'Column Name'\n",
    "nulls[ nulls['Count of Nulls'] > 0 ].sort_values('Count of Nulls', ascending=False)"
   ]
  },
  {
   "cell_type": "markdown",
   "id": "233b4433",
   "metadata": {
    "papermill": {
     "duration": 0.008461,
     "end_time": "2022-08-09T23:44:12.023155",
     "exception": false,
     "start_time": "2022-08-09T23:44:12.014694",
     "status": "completed"
    },
    "tags": []
   },
   "source": [
    "#### Turns out that there are only three columns that have a LOT of nulls. This is not a huge deal as the contents of these columns are not really what I am going to be looking at anyway. \n",
    "\n",
    "#### As for the rating, duration, and date_added, I thought that there is such a small amount that is not listed, that I could drop the rows without affecting much. I think that there are enough movies/shows with this info that the absence of the rows will not effect any analysis in a negative way."
   ]
  },
  {
   "cell_type": "code",
   "execution_count": 4,
   "id": "4fe7359c",
   "metadata": {
    "execution": {
     "iopub.execute_input": "2022-08-09T23:44:12.040456Z",
     "iopub.status.busy": "2022-08-09T23:44:12.039999Z",
     "iopub.status.idle": "2022-08-09T23:44:12.072380Z",
     "shell.execute_reply": "2022-08-09T23:44:12.071209Z"
    },
    "papermill": {
     "duration": 0.043867,
     "end_time": "2022-08-09T23:44:12.074733",
     "exception": false,
     "start_time": "2022-08-09T23:44:12.030866",
     "status": "completed"
    },
    "tags": []
   },
   "outputs": [
    {
     "data": {
      "text/html": [
       "<div>\n",
       "<style scoped>\n",
       "    .dataframe tbody tr th:only-of-type {\n",
       "        vertical-align: middle;\n",
       "    }\n",
       "\n",
       "    .dataframe tbody tr th {\n",
       "        vertical-align: top;\n",
       "    }\n",
       "\n",
       "    .dataframe thead th {\n",
       "        text-align: right;\n",
       "    }\n",
       "</style>\n",
       "<table border=\"1\" class=\"dataframe\">\n",
       "  <thead>\n",
       "    <tr style=\"text-align: right;\">\n",
       "      <th></th>\n",
       "      <th>type</th>\n",
       "      <th>title</th>\n",
       "      <th>director</th>\n",
       "      <th>cast</th>\n",
       "      <th>country</th>\n",
       "      <th>date_added</th>\n",
       "      <th>release_year</th>\n",
       "      <th>rating</th>\n",
       "      <th>duration</th>\n",
       "      <th>listed_in</th>\n",
       "    </tr>\n",
       "    <tr>\n",
       "      <th>show_id</th>\n",
       "      <th></th>\n",
       "      <th></th>\n",
       "      <th></th>\n",
       "      <th></th>\n",
       "      <th></th>\n",
       "      <th></th>\n",
       "      <th></th>\n",
       "      <th></th>\n",
       "      <th></th>\n",
       "      <th></th>\n",
       "    </tr>\n",
       "  </thead>\n",
       "  <tbody>\n",
       "    <tr>\n",
       "      <th>1</th>\n",
       "      <td>Movie</td>\n",
       "      <td>Dick Johnson Is Dead</td>\n",
       "      <td>Kirsten Johnson</td>\n",
       "      <td>Not Listed</td>\n",
       "      <td>United States</td>\n",
       "      <td>September 25, 2021</td>\n",
       "      <td>2020</td>\n",
       "      <td>PG-13</td>\n",
       "      <td>90 min</td>\n",
       "      <td>Documentaries</td>\n",
       "    </tr>\n",
       "    <tr>\n",
       "      <th>2</th>\n",
       "      <td>TV Show</td>\n",
       "      <td>Blood &amp; Water</td>\n",
       "      <td>Not Listed</td>\n",
       "      <td>Ama Qamata, Khosi Ngema, Gail Mabalane, Thaban...</td>\n",
       "      <td>South Africa</td>\n",
       "      <td>September 24, 2021</td>\n",
       "      <td>2021</td>\n",
       "      <td>TV-MA</td>\n",
       "      <td>2 Seasons</td>\n",
       "      <td>International TV Shows, TV Dramas, TV Mysteries</td>\n",
       "    </tr>\n",
       "    <tr>\n",
       "      <th>3</th>\n",
       "      <td>TV Show</td>\n",
       "      <td>Ganglands</td>\n",
       "      <td>Julien Leclercq</td>\n",
       "      <td>Sami Bouajila, Tracy Gotoas, Samuel Jouy, Nabi...</td>\n",
       "      <td>Not Listed</td>\n",
       "      <td>September 24, 2021</td>\n",
       "      <td>2021</td>\n",
       "      <td>TV-MA</td>\n",
       "      <td>1 Season</td>\n",
       "      <td>Crime TV Shows, International TV Shows, TV Act...</td>\n",
       "    </tr>\n",
       "  </tbody>\n",
       "</table>\n",
       "</div>"
      ],
      "text/plain": [
       "            type                 title         director  \\\n",
       "show_id                                                   \n",
       "1          Movie  Dick Johnson Is Dead  Kirsten Johnson   \n",
       "2        TV Show         Blood & Water       Not Listed   \n",
       "3        TV Show             Ganglands  Julien Leclercq   \n",
       "\n",
       "                                                      cast        country  \\\n",
       "show_id                                                                     \n",
       "1                                               Not Listed  United States   \n",
       "2        Ama Qamata, Khosi Ngema, Gail Mabalane, Thaban...   South Africa   \n",
       "3        Sami Bouajila, Tracy Gotoas, Samuel Jouy, Nabi...     Not Listed   \n",
       "\n",
       "                 date_added  release_year rating   duration  \\\n",
       "show_id                                                       \n",
       "1        September 25, 2021          2020  PG-13     90 min   \n",
       "2        September 24, 2021          2021  TV-MA  2 Seasons   \n",
       "3        September 24, 2021          2021  TV-MA   1 Season   \n",
       "\n",
       "                                                 listed_in  \n",
       "show_id                                                     \n",
       "1                                            Documentaries  \n",
       "2          International TV Shows, TV Dramas, TV Mysteries  \n",
       "3        Crime TV Shows, International TV Shows, TV Act...  "
      ]
     },
     "execution_count": 4,
     "metadata": {},
     "output_type": "execute_result"
    }
   ],
   "source": [
    "netflix.fillna({'director': 'Not Listed', 'country': 'Not Listed', 'cast': 'Not Listed'}, inplace=True)\n",
    "netflix.dropna(subset=['rating', 'duration', 'date_added'], inplace=True)\n",
    "netflix.drop(columns=['description'], inplace=True)\n",
    "netflix.head(3)"
   ]
  },
  {
   "cell_type": "markdown",
   "id": "dbfadc2f",
   "metadata": {
    "papermill": {
     "duration": 0.007621,
     "end_time": "2022-08-09T23:44:12.090564",
     "exception": false,
     "start_time": "2022-08-09T23:44:12.082943",
     "status": "completed"
    },
    "tags": []
   },
   "source": [
    "#### The next part of the data cleanup was to make the 'date_added' column actual dates instead of strings:"
   ]
  },
  {
   "cell_type": "code",
   "execution_count": 5,
   "id": "63bcdfc4",
   "metadata": {
    "execution": {
     "iopub.execute_input": "2022-08-09T23:44:12.108353Z",
     "iopub.status.busy": "2022-08-09T23:44:12.107686Z",
     "iopub.status.idle": "2022-08-09T23:44:12.329594Z",
     "shell.execute_reply": "2022-08-09T23:44:12.328404Z"
    },
    "papermill": {
     "duration": 0.233766,
     "end_time": "2022-08-09T23:44:12.332154",
     "exception": false,
     "start_time": "2022-08-09T23:44:12.098388",
     "status": "completed"
    },
    "tags": []
   },
   "outputs": [
    {
     "data": {
      "text/html": [
       "<div>\n",
       "<style scoped>\n",
       "    .dataframe tbody tr th:only-of-type {\n",
       "        vertical-align: middle;\n",
       "    }\n",
       "\n",
       "    .dataframe tbody tr th {\n",
       "        vertical-align: top;\n",
       "    }\n",
       "\n",
       "    .dataframe thead th {\n",
       "        text-align: right;\n",
       "    }\n",
       "</style>\n",
       "<table border=\"1\" class=\"dataframe\">\n",
       "  <thead>\n",
       "    <tr style=\"text-align: right;\">\n",
       "      <th></th>\n",
       "      <th>type</th>\n",
       "      <th>title</th>\n",
       "      <th>director</th>\n",
       "      <th>cast</th>\n",
       "      <th>country</th>\n",
       "      <th>date_added</th>\n",
       "      <th>release_year</th>\n",
       "      <th>rating</th>\n",
       "      <th>duration</th>\n",
       "      <th>listed_in</th>\n",
       "    </tr>\n",
       "    <tr>\n",
       "      <th>show_id</th>\n",
       "      <th></th>\n",
       "      <th></th>\n",
       "      <th></th>\n",
       "      <th></th>\n",
       "      <th></th>\n",
       "      <th></th>\n",
       "      <th></th>\n",
       "      <th></th>\n",
       "      <th></th>\n",
       "      <th></th>\n",
       "    </tr>\n",
       "  </thead>\n",
       "  <tbody>\n",
       "    <tr>\n",
       "      <th>1</th>\n",
       "      <td>Movie</td>\n",
       "      <td>Dick Johnson Is Dead</td>\n",
       "      <td>Kirsten Johnson</td>\n",
       "      <td>Not Listed</td>\n",
       "      <td>United States</td>\n",
       "      <td>2021-09-25</td>\n",
       "      <td>2020</td>\n",
       "      <td>PG-13</td>\n",
       "      <td>90 min</td>\n",
       "      <td>Documentaries</td>\n",
       "    </tr>\n",
       "    <tr>\n",
       "      <th>2</th>\n",
       "      <td>TV Show</td>\n",
       "      <td>Blood &amp; Water</td>\n",
       "      <td>Not Listed</td>\n",
       "      <td>Ama Qamata, Khosi Ngema, Gail Mabalane, Thaban...</td>\n",
       "      <td>South Africa</td>\n",
       "      <td>2021-09-24</td>\n",
       "      <td>2021</td>\n",
       "      <td>TV-MA</td>\n",
       "      <td>2 Seasons</td>\n",
       "      <td>International TV Shows, TV Dramas, TV Mysteries</td>\n",
       "    </tr>\n",
       "    <tr>\n",
       "      <th>3</th>\n",
       "      <td>TV Show</td>\n",
       "      <td>Ganglands</td>\n",
       "      <td>Julien Leclercq</td>\n",
       "      <td>Sami Bouajila, Tracy Gotoas, Samuel Jouy, Nabi...</td>\n",
       "      <td>Not Listed</td>\n",
       "      <td>2021-09-24</td>\n",
       "      <td>2021</td>\n",
       "      <td>TV-MA</td>\n",
       "      <td>1 Season</td>\n",
       "      <td>Crime TV Shows, International TV Shows, TV Act...</td>\n",
       "    </tr>\n",
       "    <tr>\n",
       "      <th>4</th>\n",
       "      <td>TV Show</td>\n",
       "      <td>Jailbirds New Orleans</td>\n",
       "      <td>Not Listed</td>\n",
       "      <td>Not Listed</td>\n",
       "      <td>Not Listed</td>\n",
       "      <td>2021-09-24</td>\n",
       "      <td>2021</td>\n",
       "      <td>TV-MA</td>\n",
       "      <td>1 Season</td>\n",
       "      <td>Docuseries, Reality TV</td>\n",
       "    </tr>\n",
       "    <tr>\n",
       "      <th>5</th>\n",
       "      <td>TV Show</td>\n",
       "      <td>Kota Factory</td>\n",
       "      <td>Not Listed</td>\n",
       "      <td>Mayur More, Jitendra Kumar, Ranjan Raj, Alam K...</td>\n",
       "      <td>India</td>\n",
       "      <td>2021-09-24</td>\n",
       "      <td>2021</td>\n",
       "      <td>TV-MA</td>\n",
       "      <td>2 Seasons</td>\n",
       "      <td>International TV Shows, Romantic TV Shows, TV ...</td>\n",
       "    </tr>\n",
       "    <tr>\n",
       "      <th>...</th>\n",
       "      <td>...</td>\n",
       "      <td>...</td>\n",
       "      <td>...</td>\n",
       "      <td>...</td>\n",
       "      <td>...</td>\n",
       "      <td>...</td>\n",
       "      <td>...</td>\n",
       "      <td>...</td>\n",
       "      <td>...</td>\n",
       "      <td>...</td>\n",
       "    </tr>\n",
       "    <tr>\n",
       "      <th>8803</th>\n",
       "      <td>Movie</td>\n",
       "      <td>Zodiac</td>\n",
       "      <td>David Fincher</td>\n",
       "      <td>Mark Ruffalo, Jake Gyllenhaal, Robert Downey J...</td>\n",
       "      <td>United States</td>\n",
       "      <td>2019-11-20</td>\n",
       "      <td>2007</td>\n",
       "      <td>R</td>\n",
       "      <td>158 min</td>\n",
       "      <td>Cult Movies, Dramas, Thrillers</td>\n",
       "    </tr>\n",
       "    <tr>\n",
       "      <th>8804</th>\n",
       "      <td>TV Show</td>\n",
       "      <td>Zombie Dumb</td>\n",
       "      <td>Not Listed</td>\n",
       "      <td>Not Listed</td>\n",
       "      <td>Not Listed</td>\n",
       "      <td>2019-07-01</td>\n",
       "      <td>2018</td>\n",
       "      <td>TV-Y7</td>\n",
       "      <td>2 Seasons</td>\n",
       "      <td>Kids' TV, Korean TV Shows, TV Comedies</td>\n",
       "    </tr>\n",
       "    <tr>\n",
       "      <th>8805</th>\n",
       "      <td>Movie</td>\n",
       "      <td>Zombieland</td>\n",
       "      <td>Ruben Fleischer</td>\n",
       "      <td>Jesse Eisenberg, Woody Harrelson, Emma Stone, ...</td>\n",
       "      <td>United States</td>\n",
       "      <td>2019-11-01</td>\n",
       "      <td>2009</td>\n",
       "      <td>R</td>\n",
       "      <td>88 min</td>\n",
       "      <td>Comedies, Horror Movies</td>\n",
       "    </tr>\n",
       "    <tr>\n",
       "      <th>8806</th>\n",
       "      <td>Movie</td>\n",
       "      <td>Zoom</td>\n",
       "      <td>Peter Hewitt</td>\n",
       "      <td>Tim Allen, Courteney Cox, Chevy Chase, Kate Ma...</td>\n",
       "      <td>United States</td>\n",
       "      <td>2020-01-11</td>\n",
       "      <td>2006</td>\n",
       "      <td>PG</td>\n",
       "      <td>88 min</td>\n",
       "      <td>Children &amp; Family Movies, Comedies</td>\n",
       "    </tr>\n",
       "    <tr>\n",
       "      <th>8807</th>\n",
       "      <td>Movie</td>\n",
       "      <td>Zubaan</td>\n",
       "      <td>Mozez Singh</td>\n",
       "      <td>Vicky Kaushal, Sarah-Jane Dias, Raaghav Chanan...</td>\n",
       "      <td>India</td>\n",
       "      <td>2019-03-02</td>\n",
       "      <td>2015</td>\n",
       "      <td>TV-14</td>\n",
       "      <td>111 min</td>\n",
       "      <td>Dramas, International Movies, Music &amp; Musicals</td>\n",
       "    </tr>\n",
       "  </tbody>\n",
       "</table>\n",
       "<p>8790 rows × 10 columns</p>\n",
       "</div>"
      ],
      "text/plain": [
       "            type                  title         director  \\\n",
       "show_id                                                    \n",
       "1          Movie   Dick Johnson Is Dead  Kirsten Johnson   \n",
       "2        TV Show          Blood & Water       Not Listed   \n",
       "3        TV Show              Ganglands  Julien Leclercq   \n",
       "4        TV Show  Jailbirds New Orleans       Not Listed   \n",
       "5        TV Show           Kota Factory       Not Listed   \n",
       "...          ...                    ...              ...   \n",
       "8803       Movie                 Zodiac    David Fincher   \n",
       "8804     TV Show            Zombie Dumb       Not Listed   \n",
       "8805       Movie             Zombieland  Ruben Fleischer   \n",
       "8806       Movie                   Zoom     Peter Hewitt   \n",
       "8807       Movie                 Zubaan      Mozez Singh   \n",
       "\n",
       "                                                      cast        country  \\\n",
       "show_id                                                                     \n",
       "1                                               Not Listed  United States   \n",
       "2        Ama Qamata, Khosi Ngema, Gail Mabalane, Thaban...   South Africa   \n",
       "3        Sami Bouajila, Tracy Gotoas, Samuel Jouy, Nabi...     Not Listed   \n",
       "4                                               Not Listed     Not Listed   \n",
       "5        Mayur More, Jitendra Kumar, Ranjan Raj, Alam K...          India   \n",
       "...                                                    ...            ...   \n",
       "8803     Mark Ruffalo, Jake Gyllenhaal, Robert Downey J...  United States   \n",
       "8804                                            Not Listed     Not Listed   \n",
       "8805     Jesse Eisenberg, Woody Harrelson, Emma Stone, ...  United States   \n",
       "8806     Tim Allen, Courteney Cox, Chevy Chase, Kate Ma...  United States   \n",
       "8807     Vicky Kaushal, Sarah-Jane Dias, Raaghav Chanan...          India   \n",
       "\n",
       "        date_added  release_year rating   duration  \\\n",
       "show_id                                              \n",
       "1       2021-09-25          2020  PG-13     90 min   \n",
       "2       2021-09-24          2021  TV-MA  2 Seasons   \n",
       "3       2021-09-24          2021  TV-MA   1 Season   \n",
       "4       2021-09-24          2021  TV-MA   1 Season   \n",
       "5       2021-09-24          2021  TV-MA  2 Seasons   \n",
       "...            ...           ...    ...        ...   \n",
       "8803    2019-11-20          2007      R    158 min   \n",
       "8804    2019-07-01          2018  TV-Y7  2 Seasons   \n",
       "8805    2019-11-01          2009      R     88 min   \n",
       "8806    2020-01-11          2006     PG     88 min   \n",
       "8807    2019-03-02          2015  TV-14    111 min   \n",
       "\n",
       "                                                 listed_in  \n",
       "show_id                                                     \n",
       "1                                            Documentaries  \n",
       "2          International TV Shows, TV Dramas, TV Mysteries  \n",
       "3        Crime TV Shows, International TV Shows, TV Act...  \n",
       "4                                   Docuseries, Reality TV  \n",
       "5        International TV Shows, Romantic TV Shows, TV ...  \n",
       "...                                                    ...  \n",
       "8803                        Cult Movies, Dramas, Thrillers  \n",
       "8804                Kids' TV, Korean TV Shows, TV Comedies  \n",
       "8805                               Comedies, Horror Movies  \n",
       "8806                    Children & Family Movies, Comedies  \n",
       "8807        Dramas, International Movies, Music & Musicals  \n",
       "\n",
       "[8790 rows x 10 columns]"
      ]
     },
     "execution_count": 5,
     "metadata": {},
     "output_type": "execute_result"
    }
   ],
   "source": [
    "netflix['date_added'] = pd.to_datetime(netflix['date_added'])\n",
    "netflix"
   ]
  },
  {
   "cell_type": "markdown",
   "id": "a7303cd8",
   "metadata": {
    "papermill": {
     "duration": 0.007848,
     "end_time": "2022-08-09T23:44:12.349227",
     "exception": false,
     "start_time": "2022-08-09T23:44:12.341379",
     "status": "completed"
    },
    "tags": []
   },
   "source": [
    "### Now that the data was cleaned up a bit, I could see how much content is added each year on Netflix and what the trend looks like:"
   ]
  },
  {
   "cell_type": "code",
   "execution_count": 6,
   "id": "b7f92825",
   "metadata": {
    "execution": {
     "iopub.execute_input": "2022-08-09T23:44:12.367202Z",
     "iopub.status.busy": "2022-08-09T23:44:12.366801Z",
     "iopub.status.idle": "2022-08-09T23:44:12.653486Z",
     "shell.execute_reply": "2022-08-09T23:44:12.652393Z"
    },
    "papermill": {
     "duration": 0.298487,
     "end_time": "2022-08-09T23:44:12.655765",
     "exception": false,
     "start_time": "2022-08-09T23:44:12.357278",
     "status": "completed"
    },
    "tags": []
   },
   "outputs": [
    {
     "data": {
      "image/png": "[encoded data removed]",
      "text/plain": [
       "<Figure size 1080x360 with 1 Axes>"
      ]
     },
     "metadata": {
      "needs_background": "light"
     },
     "output_type": "display_data"
    }
   ],
   "source": [
    "netflix['year_added'] = netflix['date_added'].dt.year\n",
    "netflix[['year_added', 'title']].groupby('year_added') \\\n",
    "                                .count() \\\n",
    "                                .rename(columns={'title': 'Amount of Content Added'}) \\\n",
    "                                .plot(figsize=(15,5));\n",
    "\n",
    "plt.title('Amount of Content Added on Netflix Each Year');"
   ]
  },
  {
   "cell_type": "markdown",
   "id": "91dfd6ec",
   "metadata": {
    "papermill": {
     "duration": 0.008129,
     "end_time": "2022-08-09T23:44:12.672840",
     "exception": false,
     "start_time": "2022-08-09T23:44:12.664711",
     "status": "completed"
    },
    "tags": []
   },
   "source": [
    "#### I thought it was interesting that the line goes down so much towards the end of the graph so I wanted to see the last time that content was added on this dataset:"
   ]
  },
  {
   "cell_type": "code",
   "execution_count": 7,
   "id": "b4718100",
   "metadata": {
    "execution": {
     "iopub.execute_input": "2022-08-09T23:44:12.692173Z",
     "iopub.status.busy": "2022-08-09T23:44:12.691746Z",
     "iopub.status.idle": "2022-08-09T23:44:12.702614Z",
     "shell.execute_reply": "2022-08-09T23:44:12.701568Z"
    },
    "papermill": {
     "duration": 0.023245,
     "end_time": "2022-08-09T23:44:12.704703",
     "exception": false,
     "start_time": "2022-08-09T23:44:12.681458",
     "status": "completed"
    },
    "tags": []
   },
   "outputs": [
    {
     "data": {
      "text/plain": [
       "show_id\n",
       "1    2021-09-25\n",
       "7    2021-09-24\n",
       "11   2021-09-24\n",
       "10   2021-09-24\n",
       "9    2021-09-24\n",
       "Name: date_added, dtype: datetime64[ns]"
      ]
     },
     "execution_count": 7,
     "metadata": {},
     "output_type": "execute_result"
    }
   ],
   "source": [
    "netflix['date_added'].sort_values(ascending=False).head(5)"
   ]
  },
  {
   "cell_type": "markdown",
   "id": "56658039",
   "metadata": {
    "papermill": {
     "duration": 0.008336,
     "end_time": "2022-08-09T23:44:12.721699",
     "exception": false,
     "start_time": "2022-08-09T23:44:12.713363",
     "status": "completed"
    },
    "tags": []
   },
   "source": [
    "### Turns out that the most recent content added was in September of 2021!! \n",
    "\n",
    "It makes sense that there was less content added in 2020 because it could be hypothesized that this was due to COVID-19. \n",
    "\n",
    "I think it is cool to see Netflix's progress in adding so much content for users to watch though, the content has been growing steadily since around 2016."
   ]
  },
  {
   "cell_type": "markdown",
   "id": "76195871",
   "metadata": {
    "papermill": {
     "duration": 0.008255,
     "end_time": "2022-08-09T23:44:12.738665",
     "exception": false,
     "start_time": "2022-08-09T23:44:12.730410",
     "status": "completed"
    },
    "tags": []
   },
   "source": [
    "### Now time to move on to my next question: What are the most popular genres?\n",
    "\n",
    "\n",
    "I really wanted to be able to group the movies into genres as well.\n",
    "\n",
    "The only problem was that there were multiple genres listed for one show, so I decided to take the first genre as this would likely still be an accurate way to classify the movie."
   ]
  },
  {
   "cell_type": "code",
   "execution_count": 8,
   "id": "faebcb56",
   "metadata": {
    "execution": {
     "iopub.execute_input": "2022-08-09T23:44:12.757681Z",
     "iopub.status.busy": "2022-08-09T23:44:12.757241Z",
     "iopub.status.idle": "2022-08-09T23:44:12.787305Z",
     "shell.execute_reply": "2022-08-09T23:44:12.786094Z"
    },
    "papermill": {
     "duration": 0.042621,
     "end_time": "2022-08-09T23:44:12.789822",
     "exception": false,
     "start_time": "2022-08-09T23:44:12.747201",
     "status": "completed"
    },
    "tags": []
   },
   "outputs": [
    {
     "data": {
      "text/html": [
       "<div>\n",
       "<style scoped>\n",
       "    .dataframe tbody tr th:only-of-type {\n",
       "        vertical-align: middle;\n",
       "    }\n",
       "\n",
       "    .dataframe tbody tr th {\n",
       "        vertical-align: top;\n",
       "    }\n",
       "\n",
       "    .dataframe thead th {\n",
       "        text-align: right;\n",
       "    }\n",
       "</style>\n",
       "<table border=\"1\" class=\"dataframe\">\n",
       "  <thead>\n",
       "    <tr style=\"text-align: right;\">\n",
       "      <th></th>\n",
       "      <th>type</th>\n",
       "      <th>title</th>\n",
       "      <th>director</th>\n",
       "      <th>cast</th>\n",
       "      <th>country</th>\n",
       "      <th>date_added</th>\n",
       "      <th>release_year</th>\n",
       "      <th>rating</th>\n",
       "      <th>duration</th>\n",
       "      <th>genre</th>\n",
       "      <th>year_added</th>\n",
       "    </tr>\n",
       "    <tr>\n",
       "      <th>show_id</th>\n",
       "      <th></th>\n",
       "      <th></th>\n",
       "      <th></th>\n",
       "      <th></th>\n",
       "      <th></th>\n",
       "      <th></th>\n",
       "      <th></th>\n",
       "      <th></th>\n",
       "      <th></th>\n",
       "      <th></th>\n",
       "      <th></th>\n",
       "    </tr>\n",
       "  </thead>\n",
       "  <tbody>\n",
       "    <tr>\n",
       "      <th>1</th>\n",
       "      <td>Movie</td>\n",
       "      <td>Dick Johnson Is Dead</td>\n",
       "      <td>Kirsten Johnson</td>\n",
       "      <td>Not Listed</td>\n",
       "      <td>United States</td>\n",
       "      <td>2021-09-25</td>\n",
       "      <td>2020</td>\n",
       "      <td>PG-13</td>\n",
       "      <td>90 min</td>\n",
       "      <td>Documentaries</td>\n",
       "      <td>2021</td>\n",
       "    </tr>\n",
       "    <tr>\n",
       "      <th>2</th>\n",
       "      <td>TV Show</td>\n",
       "      <td>Blood &amp; Water</td>\n",
       "      <td>Not Listed</td>\n",
       "      <td>Ama Qamata, Khosi Ngema, Gail Mabalane, Thaban...</td>\n",
       "      <td>South Africa</td>\n",
       "      <td>2021-09-24</td>\n",
       "      <td>2021</td>\n",
       "      <td>TV-MA</td>\n",
       "      <td>2 Seasons</td>\n",
       "      <td>International TV Shows</td>\n",
       "      <td>2021</td>\n",
       "    </tr>\n",
       "    <tr>\n",
       "      <th>3</th>\n",
       "      <td>TV Show</td>\n",
       "      <td>Ganglands</td>\n",
       "      <td>Julien Leclercq</td>\n",
       "      <td>Sami Bouajila, Tracy Gotoas, Samuel Jouy, Nabi...</td>\n",
       "      <td>Not Listed</td>\n",
       "      <td>2021-09-24</td>\n",
       "      <td>2021</td>\n",
       "      <td>TV-MA</td>\n",
       "      <td>1 Season</td>\n",
       "      <td>Crime TV Shows</td>\n",
       "      <td>2021</td>\n",
       "    </tr>\n",
       "    <tr>\n",
       "      <th>4</th>\n",
       "      <td>TV Show</td>\n",
       "      <td>Jailbirds New Orleans</td>\n",
       "      <td>Not Listed</td>\n",
       "      <td>Not Listed</td>\n",
       "      <td>Not Listed</td>\n",
       "      <td>2021-09-24</td>\n",
       "      <td>2021</td>\n",
       "      <td>TV-MA</td>\n",
       "      <td>1 Season</td>\n",
       "      <td>Docuseries</td>\n",
       "      <td>2021</td>\n",
       "    </tr>\n",
       "    <tr>\n",
       "      <th>5</th>\n",
       "      <td>TV Show</td>\n",
       "      <td>Kota Factory</td>\n",
       "      <td>Not Listed</td>\n",
       "      <td>Mayur More, Jitendra Kumar, Ranjan Raj, Alam K...</td>\n",
       "      <td>India</td>\n",
       "      <td>2021-09-24</td>\n",
       "      <td>2021</td>\n",
       "      <td>TV-MA</td>\n",
       "      <td>2 Seasons</td>\n",
       "      <td>International TV Shows</td>\n",
       "      <td>2021</td>\n",
       "    </tr>\n",
       "    <tr>\n",
       "      <th>...</th>\n",
       "      <td>...</td>\n",
       "      <td>...</td>\n",
       "      <td>...</td>\n",
       "      <td>...</td>\n",
       "      <td>...</td>\n",
       "      <td>...</td>\n",
       "      <td>...</td>\n",
       "      <td>...</td>\n",
       "      <td>...</td>\n",
       "      <td>...</td>\n",
       "      <td>...</td>\n",
       "    </tr>\n",
       "    <tr>\n",
       "      <th>8803</th>\n",
       "      <td>Movie</td>\n",
       "      <td>Zodiac</td>\n",
       "      <td>David Fincher</td>\n",
       "      <td>Mark Ruffalo, Jake Gyllenhaal, Robert Downey J...</td>\n",
       "      <td>United States</td>\n",
       "      <td>2019-11-20</td>\n",
       "      <td>2007</td>\n",
       "      <td>R</td>\n",
       "      <td>158 min</td>\n",
       "      <td>Cult Movies</td>\n",
       "      <td>2019</td>\n",
       "    </tr>\n",
       "    <tr>\n",
       "      <th>8804</th>\n",
       "      <td>TV Show</td>\n",
       "      <td>Zombie Dumb</td>\n",
       "      <td>Not Listed</td>\n",
       "      <td>Not Listed</td>\n",
       "      <td>Not Listed</td>\n",
       "      <td>2019-07-01</td>\n",
       "      <td>2018</td>\n",
       "      <td>TV-Y7</td>\n",
       "      <td>2 Seasons</td>\n",
       "      <td>Kids' TV</td>\n",
       "      <td>2019</td>\n",
       "    </tr>\n",
       "    <tr>\n",
       "      <th>8805</th>\n",
       "      <td>Movie</td>\n",
       "      <td>Zombieland</td>\n",
       "      <td>Ruben Fleischer</td>\n",
       "      <td>Jesse Eisenberg, Woody Harrelson, Emma Stone, ...</td>\n",
       "      <td>United States</td>\n",
       "      <td>2019-11-01</td>\n",
       "      <td>2009</td>\n",
       "      <td>R</td>\n",
       "      <td>88 min</td>\n",
       "      <td>Comedies</td>\n",
       "      <td>2019</td>\n",
       "    </tr>\n",
       "    <tr>\n",
       "      <th>8806</th>\n",
       "      <td>Movie</td>\n",
       "      <td>Zoom</td>\n",
       "      <td>Peter Hewitt</td>\n",
       "      <td>Tim Allen, Courteney Cox, Chevy Chase, Kate Ma...</td>\n",
       "      <td>United States</td>\n",
       "      <td>2020-01-11</td>\n",
       "      <td>2006</td>\n",
       "      <td>PG</td>\n",
       "      <td>88 min</td>\n",
       "      <td>Children &amp; Family Movies</td>\n",
       "      <td>2020</td>\n",
       "    </tr>\n",
       "    <tr>\n",
       "      <th>8807</th>\n",
       "      <td>Movie</td>\n",
       "      <td>Zubaan</td>\n",
       "      <td>Mozez Singh</td>\n",
       "      <td>Vicky Kaushal, Sarah-Jane Dias, Raaghav Chanan...</td>\n",
       "      <td>India</td>\n",
       "      <td>2019-03-02</td>\n",
       "      <td>2015</td>\n",
       "      <td>TV-14</td>\n",
       "      <td>111 min</td>\n",
       "      <td>Dramas</td>\n",
       "      <td>2019</td>\n",
       "    </tr>\n",
       "  </tbody>\n",
       "</table>\n",
       "<p>8790 rows × 11 columns</p>\n",
       "</div>"
      ],
      "text/plain": [
       "            type                  title         director  \\\n",
       "show_id                                                    \n",
       "1          Movie   Dick Johnson Is Dead  Kirsten Johnson   \n",
       "2        TV Show          Blood & Water       Not Listed   \n",
       "3        TV Show              Ganglands  Julien Leclercq   \n",
       "4        TV Show  Jailbirds New Orleans       Not Listed   \n",
       "5        TV Show           Kota Factory       Not Listed   \n",
       "...          ...                    ...              ...   \n",
       "8803       Movie                 Zodiac    David Fincher   \n",
       "8804     TV Show            Zombie Dumb       Not Listed   \n",
       "8805       Movie             Zombieland  Ruben Fleischer   \n",
       "8806       Movie                   Zoom     Peter Hewitt   \n",
       "8807       Movie                 Zubaan      Mozez Singh   \n",
       "\n",
       "                                                      cast        country  \\\n",
       "show_id                                                                     \n",
       "1                                               Not Listed  United States   \n",
       "2        Ama Qamata, Khosi Ngema, Gail Mabalane, Thaban...   South Africa   \n",
       "3        Sami Bouajila, Tracy Gotoas, Samuel Jouy, Nabi...     Not Listed   \n",
       "4                                               Not Listed     Not Listed   \n",
       "5        Mayur More, Jitendra Kumar, Ranjan Raj, Alam K...          India   \n",
       "...                                                    ...            ...   \n",
       "8803     Mark Ruffalo, Jake Gyllenhaal, Robert Downey J...  United States   \n",
       "8804                                            Not Listed     Not Listed   \n",
       "8805     Jesse Eisenberg, Woody Harrelson, Emma Stone, ...  United States   \n",
       "8806     Tim Allen, Courteney Cox, Chevy Chase, Kate Ma...  United States   \n",
       "8807     Vicky Kaushal, Sarah-Jane Dias, Raaghav Chanan...          India   \n",
       "\n",
       "        date_added  release_year rating   duration                     genre  \\\n",
       "show_id                                                                        \n",
       "1       2021-09-25          2020  PG-13     90 min             Documentaries   \n",
       "2       2021-09-24          2021  TV-MA  2 Seasons    International TV Shows   \n",
       "3       2021-09-24          2021  TV-MA   1 Season            Crime TV Shows   \n",
       "4       2021-09-24          2021  TV-MA   1 Season                Docuseries   \n",
       "5       2021-09-24          2021  TV-MA  2 Seasons    International TV Shows   \n",
       "...            ...           ...    ...        ...                       ...   \n",
       "8803    2019-11-20          2007      R    158 min               Cult Movies   \n",
       "8804    2019-07-01          2018  TV-Y7  2 Seasons                  Kids' TV   \n",
       "8805    2019-11-01          2009      R     88 min                  Comedies   \n",
       "8806    2020-01-11          2006     PG     88 min  Children & Family Movies   \n",
       "8807    2019-03-02          2015  TV-14    111 min                    Dramas   \n",
       "\n",
       "         year_added  \n",
       "show_id              \n",
       "1              2021  \n",
       "2              2021  \n",
       "3              2021  \n",
       "4              2021  \n",
       "5              2021  \n",
       "...             ...  \n",
       "8803           2019  \n",
       "8804           2019  \n",
       "8805           2019  \n",
       "8806           2020  \n",
       "8807           2019  \n",
       "\n",
       "[8790 rows x 11 columns]"
      ]
     },
     "execution_count": 8,
     "metadata": {},
     "output_type": "execute_result"
    }
   ],
   "source": [
    "def take_first_genre(genres):\n",
    "    split_genres = genres.split(',')\n",
    "    return split_genres[0]\n",
    "\n",
    "netflix['listed_in'] = netflix['listed_in'].apply(take_first_genre)\n",
    "netflix.rename(columns={'listed_in': 'genre'})"
   ]
  },
  {
   "cell_type": "markdown",
   "id": "97f01cb1",
   "metadata": {
    "papermill": {
     "duration": 0.009131,
     "end_time": "2022-08-09T23:44:12.808884",
     "exception": false,
     "start_time": "2022-08-09T23:44:12.799753",
     "status": "completed"
    },
    "tags": []
   },
   "source": [
    "#### When we look at the dataset, there is different information in fields depending on whether the content is a show or movie. For example, under 'duration', if it is a TV show it is listed by the amount of seasons, whereas if it is a movie it is listed under the amount of minutes.\n",
    "\n",
    "#### Because of this, I wanted to separate the two so that they can be analyzed separately:\n"
   ]
  },
  {
   "cell_type": "code",
   "execution_count": 9,
   "id": "1d5bfe3d",
   "metadata": {
    "execution": {
     "iopub.execute_input": "2022-08-09T23:44:12.828900Z",
     "iopub.status.busy": "2022-08-09T23:44:12.828494Z",
     "iopub.status.idle": "2022-08-09T23:44:12.839009Z",
     "shell.execute_reply": "2022-08-09T23:44:12.837932Z"
    },
    "papermill": {
     "duration": 0.023351,
     "end_time": "2022-08-09T23:44:12.841482",
     "exception": false,
     "start_time": "2022-08-09T23:44:12.818131",
     "status": "completed"
    },
    "tags": []
   },
   "outputs": [],
   "source": [
    "tv_shows = netflix[netflix['type'] == 'TV Show']\n",
    "movies = netflix[netflix['type'] == 'Movie']"
   ]
  },
  {
   "cell_type": "markdown",
   "id": "74f87aea",
   "metadata": {
    "papermill": {
     "duration": 0.008875,
     "end_time": "2022-08-09T23:44:12.859553",
     "exception": false,
     "start_time": "2022-08-09T23:44:12.850678",
     "status": "completed"
    },
    "tags": []
   },
   "source": [
    "## Looking at the top 10 TV Show genres"
   ]
  },
  {
   "cell_type": "code",
   "execution_count": 10,
   "id": "4bd28617",
   "metadata": {
    "execution": {
     "iopub.execute_input": "2022-08-09T23:44:12.880228Z",
     "iopub.status.busy": "2022-08-09T23:44:12.879541Z",
     "iopub.status.idle": "2022-08-09T23:44:13.098110Z",
     "shell.execute_reply": "2022-08-09T23:44:13.096812Z"
    },
    "papermill": {
     "duration": 0.232105,
     "end_time": "2022-08-09T23:44:13.100728",
     "exception": false,
     "start_time": "2022-08-09T23:44:12.868623",
     "status": "completed"
    },
    "tags": []
   },
   "outputs": [
    {
     "data": {
      "image/png": "[encoded data removed]",
      "text/plain": [
       "<Figure size 792x432 with 1 Axes>"
      ]
     },
     "metadata": {
      "needs_background": "light"
     },
     "output_type": "display_data"
    }
   ],
   "source": [
    "top_ten_tv_genres = tv_shows[['type', 'listed_in']] \\\n",
    "                    .groupby('listed_in') \\\n",
    "                    .count() \\\n",
    "                    .sort_values('type', ascending=False) \\\n",
    "                    .head(10) \\\n",
    "                    .sort_values('type') \\\n",
    "                    .rename(columns={'type': 'TV Show Count'})\n",
    "\n",
    "top_ten_tv_genres.index.name = 'Genre'\n",
    "\n",
    "top_ten_tv_genres.plot(kind='barh', figsize=(11,6));\n",
    "plt.xlabel('Count of TV Shows')\n",
    "plt.title('Top 10 TV Show Genres on Netflix');"
   ]
  },
  {
   "cell_type": "markdown",
   "id": "3757b4ed",
   "metadata": {
    "papermill": {
     "duration": 0.009329,
     "end_time": "2022-08-09T23:44:13.120172",
     "exception": false,
     "start_time": "2022-08-09T23:44:13.110843",
     "status": "completed"
    },
    "tags": []
   },
   "source": [
    "So the the most common TV Show genre is International TV Shows! I found this quite interesting because I had never thought that that genre would be so common.\n",
    "\n",
    "Now it is important to note that this may not be completely accurate due to the selection of the first genre that appeared on the dataset, but I think that there is such an overwhelming amount of International TV Shows over other genres that it still means there is a significant amount more."
   ]
  },
  {
   "cell_type": "markdown",
   "id": "d1ffee99",
   "metadata": {
    "papermill": {
     "duration": 0.009181,
     "end_time": "2022-08-09T23:44:13.138751",
     "exception": false,
     "start_time": "2022-08-09T23:44:13.129570",
     "status": "completed"
    },
    "tags": []
   },
   "source": [
    "## Looking at the top 10 Movie genres"
   ]
  },
  {
   "cell_type": "code",
   "execution_count": 11,
   "id": "1f0763b4",
   "metadata": {
    "execution": {
     "iopub.execute_input": "2022-08-09T23:44:13.159761Z",
     "iopub.status.busy": "2022-08-09T23:44:13.158706Z",
     "iopub.status.idle": "2022-08-09T23:44:13.427319Z",
     "shell.execute_reply": "2022-08-09T23:44:13.426132Z"
    },
    "papermill": {
     "duration": 0.281713,
     "end_time": "2022-08-09T23:44:13.429790",
     "exception": false,
     "start_time": "2022-08-09T23:44:13.148077",
     "status": "completed"
    },
    "tags": []
   },
   "outputs": [
    {
     "data": {
      "image/png": "[encoded data removed]",
      "text/plain": [
       "<Figure size 792x432 with 1 Axes>"
      ]
     },
     "metadata": {
      "needs_background": "light"
     },
     "output_type": "display_data"
    }
   ],
   "source": [
    "top_ten_movie_genres = movies[['type', 'listed_in']] \\\n",
    "                        .groupby('listed_in') \\\n",
    "                        .count() \\\n",
    "                        .sort_values('type', ascending=False) \\\n",
    "                        .head(10) \\\n",
    "                        .sort_values('type') \\\n",
    "                        .rename(columns={'type': 'Movie Count'})\n",
    "\n",
    "top_ten_movie_genres.index.name = 'Genre'\n",
    "\n",
    "top_ten_movie_genres.plot(kind='barh', figsize=(11,6));\n",
    "plt.xlabel('Count of Movies')\n",
    "plt.title('Top 10 Movie Genres on Netflix');"
   ]
  },
  {
   "cell_type": "markdown",
   "id": "cc9cdb10",
   "metadata": {
    "papermill": {
     "duration": 0.009999,
     "end_time": "2022-08-09T23:44:13.449798",
     "exception": false,
     "start_time": "2022-08-09T23:44:13.439799",
     "status": "completed"
    },
    "tags": []
   },
   "source": [
    "Now I find these top genres less surprising. There still may be a lack of accuracy, but I definitely am not surprised that a lot of Netflix movies fall under the genres of Drama, Comedy and Action & Adventure."
   ]
  },
  {
   "cell_type": "markdown",
   "id": "0cceb688",
   "metadata": {
    "papermill": {
     "duration": 0.009398,
     "end_time": "2022-08-09T23:44:13.468935",
     "exception": false,
     "start_time": "2022-08-09T23:44:13.459537",
     "status": "completed"
    },
    "tags": []
   },
   "source": [
    "## Next I wanted to look at the distribution of the country where the content was produced:"
   ]
  },
  {
   "cell_type": "code",
   "execution_count": 12,
   "id": "1f090dd1",
   "metadata": {
    "execution": {
     "iopub.execute_input": "2022-08-09T23:44:13.489959Z",
     "iopub.status.busy": "2022-08-09T23:44:13.489541Z",
     "iopub.status.idle": "2022-08-09T23:44:13.743627Z",
     "shell.execute_reply": "2022-08-09T23:44:13.742435Z"
    },
    "papermill": {
     "duration": 0.26763,
     "end_time": "2022-08-09T23:44:13.746159",
     "exception": false,
     "start_time": "2022-08-09T23:44:13.478529",
     "status": "completed"
    },
    "tags": []
   },
   "outputs": [
    {
     "data": {
      "image/png": "[encoded data removed]",
      "text/plain": [
       "<Figure size 1080x432 with 1 Axes>"
      ]
     },
     "metadata": {
      "needs_background": "light"
     },
     "output_type": "display_data"
    }
   ],
   "source": [
    "top_countries = netflix[['country', 'title']].groupby('country') \\\n",
    "                                             .count() \\\n",
    "                                             .sort_values('title', ascending=False) \\\n",
    "                                             .head(10) \\\n",
    "                                             .sort_values('title') \\\n",
    "                                             .rename(columns={'title': 'Content'})\n",
    "\n",
    "top_countries.index.name = 'Country'\n",
    "top_countries.plot(kind='barh', figsize=(15,6))\n",
    "plt.xlabel('Count of Content Produced')\n",
    "plt.title('Top 10 Countries Where Content on Netflix was Produced');"
   ]
  },
  {
   "cell_type": "markdown",
   "id": "37f35afb",
   "metadata": {
    "papermill": {
     "duration": 0.010342,
     "end_time": "2022-08-09T23:44:13.767239",
     "exception": false,
     "start_time": "2022-08-09T23:44:13.756897",
     "status": "completed"
    },
    "tags": []
   },
   "source": [
    "Since this data was taken from the content on the United States Netflix, it makes a lot of sense that the US is the top producer of content by a long shot compared to other countries. \n",
    "\n"
   ]
  },
  {
   "cell_type": "markdown",
   "id": "1247b6e5",
   "metadata": {
    "papermill": {
     "duration": 0.009986,
     "end_time": "2022-08-09T23:44:13.787672",
     "exception": false,
     "start_time": "2022-08-09T23:44:13.777686",
     "status": "completed"
    },
    "tags": []
   },
   "source": [
    "## Thank you for listening!! \n",
    "\n",
    "### I hope we all learned some more about Netflix content that we did not think of before!"
   ]
  },
  {
   "cell_type": "markdown",
   "id": "5040f6a7",
   "metadata": {
    "papermill": {
     "duration": 0.009691,
     "end_time": "2022-08-09T23:44:13.807481",
     "exception": false,
     "start_time": "2022-08-09T23:44:13.797790",
     "status": "completed"
    },
    "tags": []
   },
   "source": [
    "<img src= \"https://media4.giphy.com/media/wbcMnfHqOJX9K/giphy.webp?cid=ecf05e47gxc787q0fwzc1xoarsi979o5u5xune47n460jb57&rid=giphy.webp&ct=g\" width=\"400\">"
   ]
  }
 ],
 "metadata": {
  "kernelspec": {
   "display_name": "Python 3",
   "language": "python",
   "name": "python3"
  },
  "language_info": {
   "codemirror_mode": {
    "name": "ipython",
    "version": 3
   },
   "file_extension": ".py",
   "mimetype": "text/x-python",
   "name": "python",
   "nbconvert_exporter": "python",
   "pygments_lexer": "ipython3",
   "version": "3.8.8"
  },
  "papermill": {
   "default_parameters": {},
   "duration": 11.683953,
   "end_time": "2022-08-09T23:44:14.440310",
   "environment_variables": {},
   "exception": null,
   "input_path": "__notebook__.ipynb",
   "output_path": "__notebook__.ipynb",
   "parameters": {},
   "start_time": "2022-08-09T23:44:02.756357",
   "version": "2.3.4"
  }
 },
 "nbformat": 4,
 "nbformat_minor": 5
}
